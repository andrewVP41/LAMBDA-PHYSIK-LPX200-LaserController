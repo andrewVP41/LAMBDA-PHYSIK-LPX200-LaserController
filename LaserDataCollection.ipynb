{
 "cells": [
  {
   "cell_type": "code",
   "execution_count": 3,
   "id": "5ad7c9bb-9a6c-4c0e-9a0a-c12abf4ed076",
   "metadata": {},
   "outputs": [
    {
     "name": "stdout",
     "output_type": "stream",
     "text": [
      "('ASRL1::INSTR', 'ASRL3::INSTR', 'ASRL4::INSTR', 'ASRL5::INSTR')\n"
     ]
    },
    {
     "ename": "ValueError",
     "evalue": "too many values to unpack (expected 3)",
     "output_type": "error",
     "traceback": [
      "\u001b[1;31m---------------------------------------------------------------------------\u001b[0m",
      "\u001b[1;31mValueError\u001b[0m                                Traceback (most recent call last)",
      "Input \u001b[1;32mIn [3]\u001b[0m, in \u001b[0;36m<cell line: 71>\u001b[1;34m()\u001b[0m\n\u001b[0;32m     70\u001b[0m     f\u001b[38;5;241m.\u001b[39mclose()\n\u001b[0;32m     71\u001b[0m \u001b[38;5;28;01mif\u001b[39;00m \u001b[38;5;18m__name__\u001b[39m \u001b[38;5;241m==\u001b[39m \u001b[38;5;124m'\u001b[39m\u001b[38;5;124m__main__\u001b[39m\u001b[38;5;124m'\u001b[39m:\n\u001b[1;32m---> 72\u001b[0m     \u001b[43mmain\u001b[49m\u001b[43m(\u001b[49m\u001b[43m)\u001b[49m\n",
      "Input \u001b[1;32mIn [3]\u001b[0m, in \u001b[0;36mmain\u001b[1;34m()\u001b[0m\n\u001b[0;32m     64\u001b[0m l_data \u001b[38;5;241m=\u001b[39m np\u001b[38;5;241m.\u001b[39marray([[\u001b[38;5;124m'\u001b[39m\u001b[38;5;124mOperational Mode\u001b[39m\u001b[38;5;124m'\u001b[39m, \u001b[38;5;124m'\u001b[39m\u001b[38;5;124mTrigger\u001b[39m\u001b[38;5;124m'\u001b[39m, \u001b[38;5;124m'\u001b[39m\u001b[38;5;124mReprate\u001b[39m\u001b[38;5;124m'\u001b[39m, \u001b[38;5;124m'\u001b[39m\u001b[38;5;124mVoltage\u001b[39m\u001b[38;5;124m'\u001b[39m, \u001b[38;5;124m'\u001b[39m\u001b[38;5;124mEnergy\u001b[39m\u001b[38;5;124m'\u001b[39m, \u001b[38;5;124m'\u001b[39m\u001b[38;5;124mMode\u001b[39m\u001b[38;5;124m'\u001b[39m, \u001b[38;5;124m'\u001b[39m\u001b[38;5;124mPressure\u001b[39m\u001b[38;5;124m'\u001b[39m, \u001b[38;5;124m'\u001b[39m\u001b[38;5;124mGas Menu Number\u001b[39m\u001b[38;5;124m'\u001b[39m, \u001b[38;5;124m'\u001b[39m\u001b[38;5;124mWavelength\u001b[39m\u001b[38;5;124m'\u001b[39m, \u001b[38;5;124m'\u001b[39m\u001b[38;5;124mGas Mixture\u001b[39m\u001b[38;5;124m'\u001b[39m]], dtype\u001b[38;5;241m=\u001b[39m dt)\n\u001b[0;32m     65\u001b[0m \u001b[38;5;66;03m#print(l_data)\u001b[39;00m\n\u001b[1;32m---> 66\u001b[0m \u001b[43mget_Data\u001b[49m\u001b[43m(\u001b[49m\u001b[43m)\u001b[49m\n\u001b[0;32m     68\u001b[0m f \u001b[38;5;241m=\u001b[39m h5py\u001b[38;5;241m.\u001b[39mFile(dte\u001b[38;5;241m+\u001b[39m\u001b[38;5;124m'\u001b[39m\u001b[38;5;124m.hdf5\u001b[39m\u001b[38;5;124m'\u001b[39m,\u001b[38;5;124m'\u001b[39m\u001b[38;5;124ma\u001b[39m\u001b[38;5;124m'\u001b[39m)\n\u001b[0;32m     69\u001b[0m dset \u001b[38;5;241m=\u001b[39m f\u001b[38;5;241m.\u001b[39mcreate_dataset(tme, data\u001b[38;5;241m=\u001b[39ml_data, dtype\u001b[38;5;241m=\u001b[39mdt)\n",
      "Input \u001b[1;32mIn [3]\u001b[0m, in \u001b[0;36mget_Data\u001b[1;34m()\u001b[0m\n\u001b[0;32m     19\u001b[0m \u001b[38;5;28;01mdef\u001b[39;00m \u001b[38;5;21mget_Data\u001b[39m():\n\u001b[0;32m     20\u001b[0m     opmode,trigger, reprate, voltage, energy, mode, pressure, menu \u001b[38;5;241m=\u001b[39m comm_res(\u001b[38;5;124m\"\u001b[39m\u001b[38;5;124mopmode?\u001b[39m\u001b[38;5;124m\"\u001b[39m), comm_res(\u001b[38;5;124m\"\u001b[39m\u001b[38;5;124mtrigger?\u001b[39m\u001b[38;5;124m\"\u001b[39m), comm_res(\u001b[38;5;124m\"\u001b[39m\u001b[38;5;124mreprate?\u001b[39m\u001b[38;5;124m\"\u001b[39m), comm_res(\u001b[38;5;124m\"\u001b[39m\u001b[38;5;124mhv?\u001b[39m\u001b[38;5;124m\"\u001b[39m), comm_res(\u001b[38;5;124m\"\u001b[39m\u001b[38;5;124megy?\u001b[39m\u001b[38;5;124m\"\u001b[39m), comm_res(\u001b[38;5;124m\"\u001b[39m\u001b[38;5;124mpressure?\u001b[39m\u001b[38;5;124m\"\u001b[39m), comm_res(\u001b[38;5;124m\"\u001b[39m\u001b[38;5;124mmode?\u001b[39m\u001b[38;5;124m\"\u001b[39m), comm_res(\u001b[38;5;124m\"\u001b[39m\u001b[38;5;124mmenu?\u001b[39m\u001b[38;5;124m\"\u001b[39m)\n\u001b[1;32m---> 21\u001b[0m     gMenuNo, wvlth, gMix \u001b[38;5;241m=\u001b[39m menu\u001b[38;5;241m.\u001b[39msplit()\n\u001b[0;32m     22\u001b[0m     x\u001b[38;5;241m=\u001b[39m\u001b[38;5;241m0\u001b[39m\n\u001b[0;32m     23\u001b[0m     \u001b[38;5;28;01mwhile\u001b[39;00m  comm_res(x\u001b[38;5;241m<\u001b[39m\u001b[38;5;241m5\u001b[39m) : \u001b[38;5;66;03m#comm_res('opmode?') != 'NULL' :\u001b[39;00m\n",
      "\u001b[1;31mValueError\u001b[0m: too many values to unpack (expected 3)"
     ]
    }
   ],
   "source": [
    "#Import libraries\n",
    "import pyvisa\n",
    "import h5py\n",
    "import time\n",
    "import numpy as np\n",
    "import datetime\n",
    "\n",
    "\n",
    "def comm_res(commmand):\n",
    "    try :\n",
    "        res = laser_instr.query(command)\n",
    "    except :\n",
    "        #print(\"Error\")\n",
    "        res = 'Not a valid Command'\n",
    "    else :\n",
    "        return res   \n",
    "    return res\n",
    "\n",
    "def get_Data():\n",
    "    opmode,trigger, reprate, voltage, energy, mode, pressure, menu = comm_res(\"opmode?\"), comm_res(\"trigger?\"), comm_res(\"reprate?\"), comm_res(\"hv?\"), comm_res(\"egy?\"), comm_res(\"pressure?\"), comm_res(\"mode?\"), comm_res(\"menu?\")\n",
    "    gMenuNo, wvlth, gMix = menu.split()\n",
    "    x=0\n",
    "    while  comm_res(x<5) : #comm_res('opmode?') != 'NULL' :\n",
    "        get_Data()\n",
    "        l_data = append(l_data,[[opmode, trigger, reprate, voltage, energy, mode, pressure, gMenuNo, wvlth, gMix]],0)\n",
    "        time.sleep(5)\n",
    "        x=x+1\n",
    "        #print(l_data)\n",
    "\n",
    "\n",
    "\n",
    "\n",
    "\n",
    "def main():\n",
    "    \"\"\"Main function.\"\"\"  \n",
    "    current_time = datetime.datetime.now()\n",
    "    str(current_time)\n",
    "    yy = str(current_time.year)\n",
    "    mm =  str(current_time.month)\n",
    "    dd = str(current_time.day)\n",
    "    h= str(current_time.hour)\n",
    "    m= str( current_time.minute)\n",
    "    s= str(current_time.second)\n",
    "\n",
    "    dte = dd + '' + mm + '' + yy\n",
    "    tme = h + ':' + m + ':' + s\n",
    "    #print(current_time)\n",
    "    #print(dte)\n",
    "    #print(tme)\n",
    "\n",
    "    #Test h5py import and check for available pyvisa resources\n",
    "    #h5py.run_tests()\n",
    "    rm = pyvisa.ResourceManager()\n",
    "    print(rm.list_resources())\n",
    "\n",
    "    #Set up pyvisa resource and port for communication\n",
    "    laser_instr = rm.open_resource('ASRL4::INSTR')\n",
    "    laser_instr.write_termination = \"\\r\"\n",
    "    laser_instr.read_termination = \"\\r\"\n",
    "\n",
    "    # Declare variables and method for updating variables\n",
    "    global opmode, time, trigger, reprate, voltage, energy, mode, pressure, menu, gMenuNo, wvlth, gMix\n",
    "    dt = h5py.string_dtype(encoding='utf-8')\n",
    "    l_data = np.array([['Operational Mode', 'Trigger', 'Reprate', 'Voltage', 'Energy', 'Mode', 'Pressure', 'Gas Menu Number', 'Wavelength', 'Gas Mixture']], dtype= dt)\n",
    "    #print(l_data)\n",
    "    get_Data()\n",
    "\n",
    "    f = h5py.File(dte+'.hdf5','a')\n",
    "    dset = f.create_dataset(tme, data=l_data, dtype=dt)\n",
    "    f.close()\n",
    "if __name__ == '__main__':\n",
    "    main()\n",
    "    "
   ]
  },
  {
   "cell_type": "code",
   "execution_count": null,
   "id": "b7b4e848-1457-401e-9926-107fe2078063",
   "metadata": {},
   "outputs": [],
   "source": []
  }
 ],
 "metadata": {
  "kernelspec": {
   "display_name": "Python 3 (ipykernel)",
   "language": "python",
   "name": "python3"
  },
  "language_info": {
   "codemirror_mode": {
    "name": "ipython",
    "version": 3
   },
   "file_extension": ".py",
   "mimetype": "text/x-python",
   "name": "python",
   "nbconvert_exporter": "python",
   "pygments_lexer": "ipython3",
   "version": "3.9.12"
  }
 },
 "nbformat": 4,
 "nbformat_minor": 5
}
